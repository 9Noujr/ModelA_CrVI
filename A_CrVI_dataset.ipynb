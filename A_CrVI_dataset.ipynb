{
  "nbformat": 4,
  "nbformat_minor": 0,
  "metadata": {
    "colab": {
      "provenance": []
    },
    "kernelspec": {
      "name": "python3",
      "display_name": "Python 3"
    },
    "language_info": {
      "name": "python"
    }
  },
  "cells": [
    {
      "cell_type": "code",
      "execution_count": null,
      "metadata": {
        "id": "D-ewtr5YzpX4"
      },
      "outputs": [],
      "source": [
        "import pandas as pd\n",
        "import numpy as np\n",
        "from sklearn.model_selection import train_test_split\n",
        "from sklearn.metrics import mean_squared_error\n",
        "from imblearn.over_sampling import RandomOverSampler\n",
        "from imblearn.over_sampling import SMOTE\n",
        "from statsmodels.nonparametric.smoothers_lowess import lowess\n",
        "from sklearn.utils import resample\n",
        "from sklearn.ensemble import RandomForestRegressor\n",
        "from sklearn.metrics import mean_absolute_error\n",
        "from sklearn.metrics import r2_score\n",
        "from sklearn.metrics import mean_absolute_percentage_error\n",
        "import matplotlib.pyplot as plt\n",
        "from sklearn.model_selection import RandomizedSearchCV"
      ]
    },
    {
      "cell_type": "code",
      "source": [
        "from google.colab import drive\n",
        "drive.mount('/content/drive')\n",
        "exp_raw_data = '/content/drive/MyDrive/MODELLING/Dataset_modelA.xlsx'\n",
        "collab_data = pd.read_excel(exp_raw_data)"
      ],
      "metadata": {
        "id": "r7U556N00Btp"
      },
      "execution_count": null,
      "outputs": []
    },
    {
      "cell_type": "code",
      "source": [
        "collab_data.corr().abs()['CrVI_concentration']"
      ],
      "metadata": {
        "id": "gs048srJz6Bt"
      },
      "execution_count": null,
      "outputs": []
    },
    {
      "cell_type": "code",
      "source": [
        "def remove_outliers_iqr(df, column, k=1.5):\n",
        "    Q1 = df[column].quantile(0.25)\n",
        "    Q3 = df[column].quantile(0.75)\n",
        "    IQR = Q3 - Q1\n",
        "    lower_bound = Q1 - k * IQR\n",
        "    upper_bound = Q3 + k * IQR\n",
        "    outliers_removed = df[(df[column] >= lower_bound) & (df[column] <= upper_bound)]\n",
        "    outliers = df[(df[column] < lower_bound) | (df[column] > upper_bound)]\n",
        "    return outliers_removed, outliers\n",
        "\n",
        "columns_for_outlier_removal = ['CrVI_concentration','initial_concentration','volume','Ph']\n",
        "\n",
        "outliers_removed_data = collab_data.copy()\n",
        "outliers_data = pd.DataFrame(columns=collab_data.columns)\n",
        "\n",
        "for column in columns_for_outlier_removal:\n",
        "    outliers_removed_data, outliers = remove_outliers_iqr(outliers_removed_data, column)\n",
        "    outliers_data = pd.concat([outliers_data, outliers])\n",
        "\n",
        "print('Outliers list length', len(outliers_data))\n",
        "print('Corrected dataset length', len(outliers_removed_data))"
      ],
      "metadata": {
        "id": "xBv1zCs11t6Z"
      },
      "execution_count": null,
      "outputs": []
    },
    {
      "cell_type": "code",
      "source": [
        "outliers_removed_data.corr().abs()['CrVI_concentration']"
      ],
      "metadata": {
        "id": "ZQ6zWWDW6-Dc"
      },
      "execution_count": null,
      "outputs": []
    },
    {
      "cell_type": "code",
      "source": [
        "y = outliers_removed_data['CrVI_concentration']\n",
        "features = ['initial_concentration','adsorbent_mass','flow_rate','Ph','volume']\n",
        "X = outliers_removed_data[features]\n",
        "\n",
        "X_testing, X_train, y_testing, y_train = train_test_split(X, y, test_size=0.7, random_state=27)\n",
        "X_val, X_test, y_val, y_test = train_test_split(X_testing, y_testing, test_size=0.5, random_state=27)\n",
        "print(\"Training set size\", len(X_train))\n",
        "print(\"Validation set size\", len(X_val))\n",
        "print(\"Training set size\", len(X_test))\n",
        "drive_path1 = '/content/drive/My Drive/MODELLING/X_testA.csv'\n",
        "X_test.to_csv(drive_path1, index=False)\n",
        "drive_path2 = '/content/drive/My Drive/MODELLING/y_testA.csv'\n",
        "y_test.to_csv(drive_path2, index=False)\n"
      ],
      "metadata": {
        "id": "UiPJ5PBM14bP"
      },
      "execution_count": null,
      "outputs": []
    },
    {
      "cell_type": "code",
      "source": [
        "outliers_removed_data['initial_concentration'].plot(kind='kde')\n",
        "outliers_removed_data['initial_concentration'].plot(kind='hist', density = True)"
      ],
      "metadata": {
        "id": "YnxoYH252PaK"
      },
      "execution_count": null,
      "outputs": []
    },
    {
      "cell_type": "code",
      "source": [
        "outliers_removed_data['adsorbent_mass'].plot(kind='kde')\n",
        "outliers_removed_data['adsorbent_mass'].plot(kind='hist', density = True)"
      ],
      "metadata": {
        "id": "02hOYnEP2YcL"
      },
      "execution_count": null,
      "outputs": []
    },
    {
      "cell_type": "code",
      "source": [
        "outliers_removed_data['flow_rate'].plot(kind='kde')\n",
        "outliers_removed_data['flow_rate'].plot(kind='hist', density = True)"
      ],
      "metadata": {
        "id": "WI30U_CR2bKP"
      },
      "execution_count": null,
      "outputs": []
    },
    {
      "cell_type": "code",
      "source": [
        "hist = outliers_removed_data['CrVI_concentration'].plot(kind='hist', density = True, bins=5)"
      ],
      "metadata": {
        "id": "A7xqGYSp2kyS"
      },
      "execution_count": null,
      "outputs": []
    },
    {
      "cell_type": "code",
      "source": [
        "train_data = pd.concat([X_train, y_train], axis=1)\n",
        "\n",
        "majority_class_train = train_data[train_data['CrVI_concentration'] <= 12.5]\n",
        "minority_class_train = train_data[train_data['CrVI_concentration'] > 12.5]\n",
        "\n",
        "downsampled_majority_train = resample(majority_class_train,\n",
        "                                      replace=False,\n",
        "                                      n_samples=len(minority_class_train),\n",
        "                                      random_state=27)\n",
        "\n",
        "balanced_train_data = pd.concat([downsampled_majority_train, minority_class_train])\n",
        "\n",
        "X_train_balanced = balanced_train_data[features]\n",
        "y_train_balanced = balanced_train_data['CrVI_concentration']\n",
        "\n",
        "print(\"Majority class size:\", len(majority_class_train))\n",
        "print(\"Minority class size:\", len(minority_class_train))\n",
        "print(\"Original training dataset size:\", len(X_train))\n",
        "print(\"Balanced training dataset size:\", len(X_train_balanced))"
      ],
      "metadata": {
        "id": "4ymCYbmW2v-U"
      },
      "execution_count": null,
      "outputs": []
    },
    {
      "cell_type": "code",
      "source": [
        "rf_trail1 = RandomForestRegressor(random_state=27)\n",
        "rf_trail1.fit(X_train_balanced, y_train_balanced)\n",
        "\n",
        "rf_trail1_prediction_train = rf_trail1.predict (X_train_balanced)\n",
        "\n",
        "rf_trail1_mae_TRAIN = mean_absolute_error(rf_trail1_prediction_train, y_train_balanced)\n",
        "rf_trail1_mape_TRAIN = mean_absolute_percentage_error(rf_trail1_prediction_train, y_train_balanced)\n",
        "rf_trail1_linearity_TRAIN = r2_score(rf_trail1_prediction_train, y_train_balanced)\n",
        "\n",
        "print('rf_trail1_mae_TRAIN =', rf_trail1_mae_TRAIN)\n",
        "print('rf_trail1_mape_TRAIN =', rf_trail1_mape_TRAIN)\n",
        "print('rf_trail1_linearity_TRAIN =', rf_trail1_linearity_TRAIN)\n",
        "\n",
        "plt.figure(figsize=(10, 6))\n",
        "plt.scatter(y_train_balanced, rf_trail1_prediction_train, color='blue', label='Predicted vs Actual')\n",
        "plt.plot([min(y_train_balanced), max(y_train_balanced)], [min(y_train_balanced), max(y_train_balanced)], color='red', linestyle='--', label='Perfect Prediction Line')\n",
        "plt.title('Prediction vs Actual')\n",
        "plt.xlabel('Actual Values')\n",
        "plt.ylabel('Predicted Values')\n",
        "plt.legend()\n",
        "plt.show()"
      ],
      "metadata": {
        "id": "b7m54S8Z3Ciy"
      },
      "execution_count": null,
      "outputs": []
    },
    {
      "cell_type": "code",
      "source": [
        "rf_trail1_prediction = rf_trail1.predict (X_val)\n",
        "rf_trail1_mae = mean_absolute_error(rf_trail1_prediction, y_val)\n",
        "rf_trail1_mape = mean_absolute_percentage_error(rf_trail1_prediction, y_val)\n",
        "rf_trail1_linearity = r2_score(rf_trail1_prediction, y_val)\n",
        "\n",
        "print('rf_trail1_mae =', rf_trail1_mae)\n",
        "print('rf_trail1_mape =', rf_trail1_mape)\n",
        "print('rf_trail1_linearity =', rf_trail1_linearity)\n",
        "\n",
        "plt.figure(figsize=(10, 6))\n",
        "plt.scatter(y_val, rf_trail1_prediction, color='blue', label='Predicted vs Actual')\n",
        "plt.plot([min(y_val), max(y_val)], [min(y_val), max(y_val)], color='red', linestyle='--', label='Perfect Prediction Line')\n",
        "plt.title('Prediction vs Actual')\n",
        "plt.xlabel('Actual Values')\n",
        "plt.ylabel('Predicted Values')\n",
        "plt.legend()\n",
        "plt.show()"
      ],
      "metadata": {
        "id": "89Iupo3M8j8S"
      },
      "execution_count": null,
      "outputs": []
    },
    {
      "cell_type": "code",
      "source": [
        "feat_importance_model_rf_trail1 = pd.Series(rf_trail1.feature_importances_, index=X_train_balanced.columns)\n",
        "feat_importance_model_rf_trail1.nlargest(5).plot(kind='barh')"
      ],
      "metadata": {
        "id": "CFgQwMFz9IL2"
      },
      "execution_count": null,
      "outputs": []
    },
    {
      "cell_type": "markdown",
      "source": [
        "Hyperparameter optimization (random grid search)"
      ],
      "metadata": {
        "id": "upC4pMSB9ZDS"
      }
    },
    {
      "cell_type": "code",
      "source": [
        "from sklearn.metrics import r2_score\n",
        "from sklearn.metrics import make_scorer"
      ],
      "metadata": {
        "id": "Q5xunkhk9cLd"
      },
      "execution_count": null,
      "outputs": []
    },
    {
      "cell_type": "code",
      "source": [
        "n_estimators = [int(x) for x in np.linspace(start = 10, stop = 1000, num = 10)]\n",
        "max_features = [0,0.1,0.2,0.3,0.4,0.5,0.6,0.7,0.8,0.9,1]\n",
        "max_depth = [int(x) for x in np.linspace (10, 110, num = 11)]\n",
        "min_samples_leaf = [1,2,4]\n",
        "\n",
        "random_grid = {'n_estimators': n_estimators,\n",
        "               'max_features': max_features,\n",
        "               'max_depth': max_depth,\n",
        "               'min_samples_leaf': min_samples_leaf,\n",
        "               }"
      ],
      "metadata": {
        "id": "Y8lm8qGT9519"
      },
      "execution_count": null,
      "outputs": []
    },
    {
      "cell_type": "code",
      "source": [
        "def custom_score(y_true, y_pred):\n",
        "    return r2_score(y_true, y_pred)\n",
        "custom_scorer = make_scorer(custom_score)\n",
        "rf_trail2 = RandomForestRegressor()\n",
        "rf_trail2_random = RandomizedSearchCV(estimator=rf_trail2, param_distributions=random_grid,\n",
        "                              n_iter = 100, scoring=custom_scorer,\n",
        "                              cv = 5, verbose=2, random_state=35, n_jobs=-1,\n",
        "                              return_train_score=True)"
      ],
      "metadata": {
        "id": "5J59RM8299al"
      },
      "execution_count": null,
      "outputs": []
    },
    {
      "cell_type": "code",
      "source": [
        "rf_trail2_random.fit(X_train_balanced,y_train_balanced)\n",
        "rf_trail2_prediction = rf_trail2_random.predict (X_train_balanced)"
      ],
      "metadata": {
        "id": "lxGjhGo4-Bz2"
      },
      "execution_count": null,
      "outputs": []
    },
    {
      "cell_type": "code",
      "source": [
        "params = rf_trail1.get_params()\n",
        "print(\"Initial Parameters:\")\n",
        "for param_name, param_value in params.items():\n",
        "    print(f\"{param_name}: {param_value}\")\n",
        "print('Best Parameters found: ', rf_trail2_random.best_params_, ' \\n' )"
      ],
      "metadata": {
        "id": "1I-EUeyBBBgB"
      },
      "execution_count": null,
      "outputs": []
    },
    {
      "cell_type": "code",
      "source": [
        "rf_trail2_random_model = RandomForestRegressor(n_estimators = 120, min_samples_leaf = 1, max_features = 0.8, max_depth = 10, random_state = 27)\n",
        "rf_trail2_prediction_train = rf_trail2_random_model.fit(X_train_balanced, y_train_balanced)\n",
        "rf_trail2_prediction_train = rf_trail2_random_model.predict(X_train_balanced)\n",
        "\n",
        "rf_trail2_mae_TRAIN = mean_absolute_error(rf_trail2_prediction_train, y_train_balanced)\n",
        "rf_trail2_mape_TRAIN = mean_absolute_percentage_error(rf_trail2_prediction_train, y_train_balanced)\n",
        "rf_trail2_linearity_TRAIN = r2_score(rf_trail2_prediction_train, y_train_balanced)\n",
        "\n",
        "print('rf_trail2_mae_TRAIN =', rf_trail2_mae_TRAIN)\n",
        "print('rf_trail2_mape_TRAIN =', rf_trail2_mape_TRAIN)\n",
        "print('rf_trail2_linearity_TRAIN =', rf_trail2_linearity_TRAIN)\n",
        "\n",
        "plt.figure(figsize=(10, 6))\n",
        "plt.scatter(y_train_balanced, rf_trail2_prediction_train, color='blue', label='Predicted vs Actual')\n",
        "plt.plot([min(y_train_balanced), max(y_train_balanced)], [min(y_train_balanced), max(y_train_balanced)], color='red', linestyle='--', label='Perfect Prediction Line')\n",
        "plt.title('Prediction vs Actual')\n",
        "plt.xlabel('Actual Values')\n",
        "plt.ylabel('Predicted Values')\n",
        "plt.legend()\n",
        "plt.show()"
      ],
      "metadata": {
        "id": "0gPLPGOTBCBA"
      },
      "execution_count": null,
      "outputs": []
    },
    {
      "cell_type": "code",
      "source": [
        "rf_trail2_prediction = rf_trail2_random_model.predict (X_val)\n",
        "\n",
        "rf_trail2_mae = mean_absolute_error(rf_trail2_prediction, y_val)\n",
        "rf_trail2_mape = mean_absolute_percentage_error(rf_trail2_prediction, y_val)\n",
        "rf_trail2_linearity = r2_score(rf_trail2_prediction, y_val)\n",
        "\n",
        "print('rf_trail1_mae/rf_trail2_mae =', rf_trail1_mae, rf_trail2_mae)\n",
        "print('rf_trail1_mape/rf_trail2_mape =', rf_trail1_mape, rf_trail2_mape)\n",
        "print('rf_trail1_linearity/rf_trail2_linearity =', rf_trail1_linearity, rf_trail2_linearity)\n",
        "\n",
        "plt.figure(figsize=(10, 6))\n",
        "plt.scatter(y_val, rf_trail2_prediction, color='blue', label='Predicted vs Actual')\n",
        "plt.plot([min(y_val), max(y_val)], [min(y_val), max(y_val)], color='red', linestyle='--', label='Perfect Prediction Line')\n",
        "plt.title('Prediction vs Actual')\n",
        "plt.xlabel('Actual Values')\n",
        "plt.ylabel('Predicted Values')\n",
        "plt.legend()\n",
        "plt.show()"
      ],
      "metadata": {
        "id": "SGKW8sd8CR9w"
      },
      "execution_count": null,
      "outputs": []
    },
    {
      "cell_type": "markdown",
      "source": [
        "Hyperparameter optimization (bayesian optimization)"
      ],
      "metadata": {
        "id": "Aa0Db3EECwqD"
      }
    },
    {
      "cell_type": "code",
      "source": [
        "!pip install bayesian-optimization scikit-learn pandas\n",
        "from sklearn.model_selection import cross_val_score\n",
        "from sklearn.model_selection import cross_val_predict\n",
        "from bayes_opt import BayesianOptimization\n",
        "from scipy.stats import pearsonr"
      ],
      "metadata": {
        "id": "Qm7WHHDlC2TS"
      },
      "execution_count": null,
      "outputs": []
    },
    {
      "cell_type": "code",
      "source": [
        "def linearity_score(y_true, y_pred):\n",
        "       residuals = y_true - y_pred\n",
        "       corr_coef, _ = pearsonr(y_pred, residuals)\n",
        "       return np.abs(corr_coef)\n",
        "\n",
        "def objective(n_estimators, max_depth, min_samples_leaf, max_features):\n",
        "    rf_trail3= RandomForestRegressor(n_estimators=int(n_estimators),\n",
        "                                  max_depth=int(max_depth),\n",
        "                                  min_samples_leaf=int(min_samples_leaf),\n",
        "                                  max_features=min(max_features, 0.999),\n",
        "                                  random_state=27)\n",
        "    y_pred = cross_val_predict(rf_trail3, X_train_balanced, y_train_balanced, cv=5)\n",
        "    mse = mean_squared_error(y_train_balanced, y_pred)\n",
        "    linearity = linearity_score(y_train_balanced, y_pred)\n",
        "    score = -mse - linearity\n",
        "    return score"
      ],
      "metadata": {
        "id": "tSnVeUFyC4AN"
      },
      "execution_count": null,
      "outputs": []
    },
    {
      "cell_type": "code",
      "source": [
        "param_bounds = {\n",
        "    'n_estimators': (10, 1000),\n",
        "    'max_depth': (1, 100),\n",
        "    'min_samples_leaf': (1,5),\n",
        "    'max_features': (0.1, 0.999),\n",
        "}\n",
        "optimizer = BayesianOptimization(f=objective, pbounds=param_bounds, random_state=27)\n",
        "optimizer.maximize(init_points=5, n_iter=15)"
      ],
      "metadata": {
        "id": "TXlsH2lpDIQM"
      },
      "execution_count": null,
      "outputs": []
    },
    {
      "cell_type": "code",
      "source": [
        "best_params=optimizer.max['params']\n",
        "best_params"
      ],
      "metadata": {
        "id": "zpkSkY9ADe2x"
      },
      "execution_count": null,
      "outputs": []
    },
    {
      "cell_type": "code",
      "source": [
        "rf_trail3_bayesian_model = RandomForestRegressor(n_estimators=int(best_params['n_estimators']),\n",
        "                                   max_depth=int(best_params['max_depth']),\n",
        "                                   min_samples_leaf=int(best_params['min_samples_leaf']),\n",
        "                                   max_features=best_params['max_features'],\n",
        "                                   random_state=27)\n",
        "rf_trail3_prediction_train = rf_trail3_bayesian_model.fit(X_train_balanced, y_train_balanced)\n",
        "rf_trail3_prediction_train = rf_trail3_bayesian_model.predict(X_train_balanced)\n",
        "\n",
        "rf_trail3_mae_TRAIN = mean_absolute_error(rf_trail3_prediction_train, y_train_balanced)\n",
        "rf_trail3_mape_TRAIN = mean_absolute_percentage_error(rf_trail3_prediction_train, y_train_balanced)\n",
        "rf_trail3_linearity_TRAIN = r2_score(rf_trail3_prediction_train, y_train_balanced)\n",
        "\n",
        "print('rf_trail3_mae_TRAIN =', rf_trail3_mae_TRAIN)\n",
        "print('rf_trail3_mape_TRAIN =', rf_trail3_mape_TRAIN)\n",
        "print('rf_trail3_linearity_TRAIN =', rf_trail3_linearity_TRAIN)\n",
        "\n",
        "plt.figure(figsize=(10, 6))\n",
        "plt.scatter(y_train_balanced, rf_trail3_prediction_train, color='blue', label='Predicted vs Actual')\n",
        "plt.plot([min(y_train_balanced), max(y_train_balanced)], [min(y_train_balanced), max(y_train_balanced)], color='red', linestyle='--', label='Perfect Prediction Line')\n",
        "plt.title('Prediction vs Actual')\n",
        "plt.xlabel('Actual Values')\n",
        "plt.ylabel('Predicted Values')\n",
        "plt.legend()\n",
        "plt.show()"
      ],
      "metadata": {
        "id": "_c_aVeBiEd4q"
      },
      "execution_count": null,
      "outputs": []
    },
    {
      "cell_type": "code",
      "source": [
        "rf_trail3_prediction = rf_trail3_bayesian_model.predict (X_val)\n",
        "\n",
        "rf_trail3_mae = mean_absolute_error(rf_trail3_prediction, y_val)\n",
        "rf_trail3_mape = mean_absolute_percentage_error(rf_trail3_prediction, y_val)\n",
        "rf_trail3_linearity = r2_score(rf_trail3_prediction, y_val)\n",
        "\n",
        "print('rf_trail2_mae/rf_trail3_mae =', rf_trail2_mae, rf_trail3_mae)\n",
        "print('rf_trail2_mape/rf_trail3_mape =', rf_trail2_mape, rf_trail3_mape)\n",
        "print('rf_trail2_linearity/rf_trail3_linearity =', rf_trail2_linearity, rf_trail3_linearity)\n",
        "\n",
        "# Plotting\n",
        "plt.figure(figsize=(10, 6))\n",
        "plt.scatter(y_val, rf_trail3_prediction, color='blue', label='Predicted vs Actual')\n",
        "plt.plot([min(y_val), max(y_val)], [min(y_val), max(y_val)], color='red', linestyle='--', label='Perfect Prediction Line')\n",
        "plt.title('Prediction vs Actual')\n",
        "plt.xlabel('Actual Values')\n",
        "plt.ylabel('Predicted Values')\n",
        "plt.legend()\n",
        "plt.show()"
      ],
      "metadata": {
        "id": "Tl_tfJA_FQ5C"
      },
      "execution_count": null,
      "outputs": []
    },
    {
      "cell_type": "markdown",
      "source": [
        "Final model saving"
      ],
      "metadata": {
        "id": "emvlE9sSNGWm"
      }
    },
    {
      "cell_type": "code",
      "source": [
        "from google.colab import drive\n",
        "drive.mount('/content/drive')\n",
        "from joblib import dump\n",
        "rf_optimized_modelA_CrVI = rf_trail3_bayesian_model\n",
        "drive_path = '/content/drive/My Drive/MODELLING/rf_optimized_modelA_CrVI.joblib'\n",
        "dump(rf_optimized_modelA_CrVI, drive_path)\n",
        "print(\"Model saved successfully to Google Drive.\")"
      ],
      "metadata": {
        "id": "hxk1dTwhNHep"
      },
      "execution_count": null,
      "outputs": []
    }
  ]
}